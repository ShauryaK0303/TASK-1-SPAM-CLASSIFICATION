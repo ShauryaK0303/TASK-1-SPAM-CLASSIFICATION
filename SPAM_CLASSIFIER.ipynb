{
  "metadata": {
    "kernelspec": {
      "language": "python",
      "display_name": "Python 3",
      "name": "python3"
    },
    "language_info": {
      "name": "python",
      "version": "3.10.13",
      "mimetype": "text/x-python",
      "codemirror_mode": {
        "name": "ipython",
        "version": 3
      },
      "pygments_lexer": "ipython3",
      "nbconvert_exporter": "python",
      "file_extension": ".py"
    },
    "kaggle": {
      "accelerator": "none",
      "dataSources": [
        {
          "sourceId": 982,
          "sourceType": "datasetVersion",
          "datasetId": 483
        }
      ],
      "dockerImageVersionId": 30646,
      "isInternetEnabled": true,
      "language": "python",
      "sourceType": "notebook",
      "isGpuEnabled": false
    },
    "colab": {
      "name": "SPAM CLASSIFIER",
      "provenance": []
    }
  },
  "nbformat_minor": 0,
  "nbformat": 4,
  "cells": [
    {
      "source": [
        "\n",
        "# IMPORTANT: RUN THIS CELL IN ORDER TO IMPORT YOUR KAGGLE DATA SOURCES\n",
        "# TO THE CORRECT LOCATION (/kaggle/input) IN YOUR NOTEBOOK,\n",
        "# THEN FEEL FREE TO DELETE THIS CELL.\n",
        "# NOTE: THIS NOTEBOOK ENVIRONMENT DIFFERS FROM KAGGLE'S PYTHON\n",
        "# ENVIRONMENT SO THERE MAY BE MISSING LIBRARIES USED BY YOUR\n",
        "# NOTEBOOK.\n",
        "\n",
        "import os\n",
        "import sys\n",
        "from tempfile import NamedTemporaryFile\n",
        "from urllib.request import urlopen\n",
        "from urllib.parse import unquote, urlparse\n",
        "from urllib.error import HTTPError\n",
        "from zipfile import ZipFile\n",
        "import tarfile\n",
        "import shutil\n",
        "\n",
        "CHUNK_SIZE = 40960\n",
        "DATA_SOURCE_MAPPING = 'sms-spam-collection-dataset:https%3A%2F%2Fstorage.googleapis.com%2Fkaggle-data-sets%2F483%2F982%2Fbundle%2Farchive.zip%3FX-Goog-Algorithm%3DGOOG4-RSA-SHA256%26X-Goog-Credential%3Dgcp-kaggle-com%2540kaggle-161607.iam.gserviceaccount.com%252F20240303%252Fauto%252Fstorage%252Fgoog4_request%26X-Goog-Date%3D20240303T082818Z%26X-Goog-Expires%3D259200%26X-Goog-SignedHeaders%3Dhost%26X-Goog-Signature%3D9a88fa759a413f730123e0bcc0139c38743abefe6dd5503ecdc087968609c57d027a6812185296a54438df2a5eeb99cb46068f61c5d3d74686ac9b3eef8f066aebbb84814e12eef233110557bd17521737f8d625280f382c5515ed3e68cc1a71e4f4feafb3ef2acdfad01b396e05371df908f0ef15fad91adb263fdb90312b0fe9cafad6ee680c4614f2b36ac38108cbe718d8eac9b3178c28c37e85cc12f09b44bf02a8f7191d5ce9f25f747b5ed937bc8d91b87463cee35f89939fd7fa99f6b6967f17b42dd9874fe40198593f4ce0077887495cc2068225217129a7a4967e01653ad9cccd2aad63e69f9ec68c3592d4fca30eb6bdd592e2af7f2cda35c2a9'\n",
        "\n",
        "KAGGLE_INPUT_PATH='/kaggle/input'\n",
        "KAGGLE_WORKING_PATH='/kaggle/working'\n",
        "KAGGLE_SYMLINK='kaggle'\n",
        "\n",
        "!umount /kaggle/input/ 2> /dev/null\n",
        "shutil.rmtree('/kaggle/input', ignore_errors=True)\n",
        "os.makedirs(KAGGLE_INPUT_PATH, 0o777, exist_ok=True)\n",
        "os.makedirs(KAGGLE_WORKING_PATH, 0o777, exist_ok=True)\n",
        "\n",
        "try:\n",
        "  os.symlink(KAGGLE_INPUT_PATH, os.path.join(\"..\", 'input'), target_is_directory=True)\n",
        "except FileExistsError:\n",
        "  pass\n",
        "try:\n",
        "  os.symlink(KAGGLE_WORKING_PATH, os.path.join(\"..\", 'working'), target_is_directory=True)\n",
        "except FileExistsError:\n",
        "  pass\n",
        "\n",
        "for data_source_mapping in DATA_SOURCE_MAPPING.split(','):\n",
        "    directory, download_url_encoded = data_source_mapping.split(':')\n",
        "    download_url = unquote(download_url_encoded)\n",
        "    filename = urlparse(download_url).path\n",
        "    destination_path = os.path.join(KAGGLE_INPUT_PATH, directory)\n",
        "    try:\n",
        "        with urlopen(download_url) as fileres, NamedTemporaryFile() as tfile:\n",
        "            total_length = fileres.headers['content-length']\n",
        "            print(f'Downloading {directory}, {total_length} bytes compressed')\n",
        "            dl = 0\n",
        "            data = fileres.read(CHUNK_SIZE)\n",
        "            while len(data) > 0:\n",
        "                dl += len(data)\n",
        "                tfile.write(data)\n",
        "                done = int(50 * dl / int(total_length))\n",
        "                sys.stdout.write(f\"\\r[{'=' * done}{' ' * (50-done)}] {dl} bytes downloaded\")\n",
        "                sys.stdout.flush()\n",
        "                data = fileres.read(CHUNK_SIZE)\n",
        "            if filename.endswith('.zip'):\n",
        "              with ZipFile(tfile) as zfile:\n",
        "                zfile.extractall(destination_path)\n",
        "            else:\n",
        "              with tarfile.open(tfile.name) as tarfile:\n",
        "                tarfile.extractall(destination_path)\n",
        "            print(f'\\nDownloaded and uncompressed: {directory}')\n",
        "    except HTTPError as e:\n",
        "        print(f'Failed to load (likely expired) {download_url} to path {destination_path}')\n",
        "        continue\n",
        "    except OSError as e:\n",
        "        print(f'Failed to load {download_url} to path {destination_path}')\n",
        "        continue\n",
        "\n",
        "print('Data source import complete.')\n"
      ],
      "metadata": {
        "id": "NPHRuxBibbEk"
      },
      "cell_type": "code",
      "outputs": [],
      "execution_count": null
    },
    {
      "cell_type": "code",
      "source": [
        "# This Python 3 environment comes with many helpful analytics libraries installed\n",
        "# It is defined by the kaggle/python Docker image: https://github.com/kaggle/docker-python\n",
        "# For example, here's several helpful packages to load\n",
        "\n",
        "import numpy as np # linear algebra\n",
        "import pandas as pd # data processing, CSV file I/O (e.g. pd.read_csv)\n",
        "\n",
        "# Input data files are available in the read-only \"../input/\" directory\n",
        "# For example, running this (by clicking run or pressing Shift+Enter) will list all files under the input directory\n",
        "\n",
        "import os\n",
        "for dirname, _, filenames in os.walk('/kaggle/input'):\n",
        "    for filename in filenames:\n",
        "        print(os.path.join(dirname, filename))\n",
        "\n",
        "# You can write up to 20GB to the current directory (/kaggle/working/) that gets preserved as output when you create a version using \"Save & Run All\"\n",
        "# You can also write temporary files to /kaggle/temp/, but they won't be saved outside of the current session"
      ],
      "metadata": {
        "_uuid": "8f2839f25d086af736a60e9eeb907d3b93b6e0e5",
        "_cell_guid": "b1076dfc-b9ad-4769-8c92-a6c4dae69d19",
        "execution": {
          "iopub.status.busy": "2024-02-16T09:00:47.758274Z",
          "iopub.execute_input": "2024-02-16T09:00:47.759295Z",
          "iopub.status.idle": "2024-02-16T09:00:48.279447Z",
          "shell.execute_reply.started": "2024-02-16T09:00:47.759247Z",
          "shell.execute_reply": "2024-02-16T09:00:48.278138Z"
        },
        "trusted": true,
        "id": "cNaPZMvJbbEo",
        "outputId": "f83eba8e-c5a2-43dc-c58a-2cacfc5acfa8"
      },
      "execution_count": null,
      "outputs": [
        {
          "name": "stdout",
          "text": "/kaggle/input/sms-spam-collection-dataset/spam.csv\n",
          "output_type": "stream"
        }
      ]
    },
    {
      "cell_type": "markdown",
      "source": [
        "**SMS CLASSIFIER DATASET**"
      ],
      "metadata": {
        "id": "ngpFc-VjbbEp"
      }
    },
    {
      "cell_type": "code",
      "source": [
        "import numpy as np\n",
        "import pandas as pd\n",
        "import warnings\n",
        "import matplotlib.pyplot as plt\n",
        "import seaborn as sns\n",
        "import re\n",
        "import nltk\n",
        "nltk.download(\"stopwords\")\n",
        "from nltk.corpus import stopwords\n",
        "from nltk.stem.porter import PorterStemmer\n",
        "from nltk.stem import WordNetLemmatizer\n",
        "from sklearn.feature_extraction.text import TfidfVectorizer\n",
        "from sklearn.preprocessing import LabelEncoder\n",
        "from sklearn.model_selection import train_test_split,cross_val_score\n",
        "from sklearn.linear_model import LogisticRegression\n",
        "from sklearn.tree import DecisionTreeClassifier\n",
        "from sklearn.svm import SVC\n",
        "from sklearn.metrics import accuracy_score,confusion_matrix,precision_score,classification_report"
      ],
      "metadata": {
        "execution": {
          "iopub.status.busy": "2024-02-16T09:00:48.281587Z",
          "iopub.execute_input": "2024-02-16T09:00:48.282442Z",
          "iopub.status.idle": "2024-02-16T09:00:51.006856Z",
          "shell.execute_reply.started": "2024-02-16T09:00:48.282401Z",
          "shell.execute_reply": "2024-02-16T09:00:51.005636Z"
        },
        "trusted": true,
        "id": "Ar9XuS9XbbEq",
        "outputId": "1e471f5b-fe1c-49a9-bd81-f7aca4cc3c24"
      },
      "execution_count": null,
      "outputs": [
        {
          "name": "stdout",
          "text": "[nltk_data] Downloading package stopwords to /usr/share/nltk_data...\n[nltk_data]   Package stopwords is already up-to-date!\n",
          "output_type": "stream"
        }
      ]
    },
    {
      "cell_type": "code",
      "source": [
        "df=pd.read_csv(\"/kaggle/input/sms-spam-collection-dataset/spam.csv\",encoding=\"latin-1\")"
      ],
      "metadata": {
        "execution": {
          "iopub.status.busy": "2024-02-16T09:00:51.008392Z",
          "iopub.execute_input": "2024-02-16T09:00:51.009309Z",
          "iopub.status.idle": "2024-02-16T09:00:51.045801Z",
          "shell.execute_reply.started": "2024-02-16T09:00:51.009267Z",
          "shell.execute_reply": "2024-02-16T09:00:51.044629Z"
        },
        "trusted": true,
        "id": "IlvcZs6SbbEr"
      },
      "execution_count": null,
      "outputs": []
    },
    {
      "cell_type": "code",
      "source": [
        "df"
      ],
      "metadata": {
        "execution": {
          "iopub.status.busy": "2024-02-16T09:00:51.04799Z",
          "iopub.execute_input": "2024-02-16T09:00:51.048372Z",
          "iopub.status.idle": "2024-02-16T09:00:51.074066Z",
          "shell.execute_reply.started": "2024-02-16T09:00:51.048342Z",
          "shell.execute_reply": "2024-02-16T09:00:51.072788Z"
        },
        "trusted": true,
        "id": "RkTSzIPabbEr",
        "outputId": "2e9d2041-2533-4157-f58a-3469c9e2ec1b"
      },
      "execution_count": null,
      "outputs": [
        {
          "execution_count": 4,
          "output_type": "execute_result",
          "data": {
            "text/plain": "        v1                                                 v2 Unnamed: 2  \\\n0      ham  Go until jurong point, crazy.. Available only ...        NaN   \n1      ham                      Ok lar... Joking wif u oni...        NaN   \n2     spam  Free entry in 2 a wkly comp to win FA Cup fina...        NaN   \n3      ham  U dun say so early hor... U c already then say...        NaN   \n4      ham  Nah I don't think he goes to usf, he lives aro...        NaN   \n...    ...                                                ...        ...   \n5567  spam  This is the 2nd time we have tried 2 contact u...        NaN   \n5568   ham              Will Ì_ b going to esplanade fr home?        NaN   \n5569   ham  Pity, * was in mood for that. So...any other s...        NaN   \n5570   ham  The guy did some bitching but I acted like i'd...        NaN   \n5571   ham                         Rofl. Its true to its name        NaN   \n\n     Unnamed: 3 Unnamed: 4  \n0           NaN        NaN  \n1           NaN        NaN  \n2           NaN        NaN  \n3           NaN        NaN  \n4           NaN        NaN  \n...         ...        ...  \n5567        NaN        NaN  \n5568        NaN        NaN  \n5569        NaN        NaN  \n5570        NaN        NaN  \n5571        NaN        NaN  \n\n[5572 rows x 5 columns]",
            "text/html": "<div>\n<style scoped>\n    .dataframe tbody tr th:only-of-type {\n        vertical-align: middle;\n    }\n\n    .dataframe tbody tr th {\n        vertical-align: top;\n    }\n\n    .dataframe thead th {\n        text-align: right;\n    }\n</style>\n<table border=\"1\" class=\"dataframe\">\n  <thead>\n    <tr style=\"text-align: right;\">\n      <th></th>\n      <th>v1</th>\n      <th>v2</th>\n      <th>Unnamed: 2</th>\n      <th>Unnamed: 3</th>\n      <th>Unnamed: 4</th>\n    </tr>\n  </thead>\n  <tbody>\n    <tr>\n      <th>0</th>\n      <td>ham</td>\n      <td>Go until jurong point, crazy.. Available only ...</td>\n      <td>NaN</td>\n      <td>NaN</td>\n      <td>NaN</td>\n    </tr>\n    <tr>\n      <th>1</th>\n      <td>ham</td>\n      <td>Ok lar... Joking wif u oni...</td>\n      <td>NaN</td>\n      <td>NaN</td>\n      <td>NaN</td>\n    </tr>\n    <tr>\n      <th>2</th>\n      <td>spam</td>\n      <td>Free entry in 2 a wkly comp to win FA Cup fina...</td>\n      <td>NaN</td>\n      <td>NaN</td>\n      <td>NaN</td>\n    </tr>\n    <tr>\n      <th>3</th>\n      <td>ham</td>\n      <td>U dun say so early hor... U c already then say...</td>\n      <td>NaN</td>\n      <td>NaN</td>\n      <td>NaN</td>\n    </tr>\n    <tr>\n      <th>4</th>\n      <td>ham</td>\n      <td>Nah I don't think he goes to usf, he lives aro...</td>\n      <td>NaN</td>\n      <td>NaN</td>\n      <td>NaN</td>\n    </tr>\n    <tr>\n      <th>...</th>\n      <td>...</td>\n      <td>...</td>\n      <td>...</td>\n      <td>...</td>\n      <td>...</td>\n    </tr>\n    <tr>\n      <th>5567</th>\n      <td>spam</td>\n      <td>This is the 2nd time we have tried 2 contact u...</td>\n      <td>NaN</td>\n      <td>NaN</td>\n      <td>NaN</td>\n    </tr>\n    <tr>\n      <th>5568</th>\n      <td>ham</td>\n      <td>Will Ì_ b going to esplanade fr home?</td>\n      <td>NaN</td>\n      <td>NaN</td>\n      <td>NaN</td>\n    </tr>\n    <tr>\n      <th>5569</th>\n      <td>ham</td>\n      <td>Pity, * was in mood for that. So...any other s...</td>\n      <td>NaN</td>\n      <td>NaN</td>\n      <td>NaN</td>\n    </tr>\n    <tr>\n      <th>5570</th>\n      <td>ham</td>\n      <td>The guy did some bitching but I acted like i'd...</td>\n      <td>NaN</td>\n      <td>NaN</td>\n      <td>NaN</td>\n    </tr>\n    <tr>\n      <th>5571</th>\n      <td>ham</td>\n      <td>Rofl. Its true to its name</td>\n      <td>NaN</td>\n      <td>NaN</td>\n      <td>NaN</td>\n    </tr>\n  </tbody>\n</table>\n<p>5572 rows × 5 columns</p>\n</div>"
          },
          "metadata": {}
        }
      ]
    },
    {
      "cell_type": "markdown",
      "source": [
        "**DATA PREPROCESSING AND CLEANING**"
      ],
      "metadata": {
        "id": "O4PUh08LbbEs"
      }
    },
    {
      "cell_type": "code",
      "source": [
        "df.drop(\"Unnamed: 2\",inplace=True,axis=1)\n",
        "df.drop(\"Unnamed: 3\",inplace=True,axis=1)\n",
        "df.drop(\"Unnamed: 4\",inplace=True,axis=1)\n",
        "df.sample(10)"
      ],
      "metadata": {
        "execution": {
          "iopub.status.busy": "2024-02-16T09:00:51.075365Z",
          "iopub.execute_input": "2024-02-16T09:00:51.075805Z",
          "iopub.status.idle": "2024-02-16T09:00:51.096142Z",
          "shell.execute_reply.started": "2024-02-16T09:00:51.075777Z",
          "shell.execute_reply": "2024-02-16T09:00:51.094857Z"
        },
        "trusted": true,
        "id": "ywd1U9EIbbEs",
        "outputId": "f373ec21-9840-44e9-83b8-35a9c3d23839"
      },
      "execution_count": null,
      "outputs": [
        {
          "execution_count": 5,
          "output_type": "execute_result",
          "data": {
            "text/plain": "        v1                                                 v2\n1706   ham  Yes! I am a one woman man! Please tell me your...\n3143   ham      Haha I heard that, text me when you're around\n836   spam  Do you want 750 anytime any network mins 150 t...\n2827   ham       Wife.how she knew the time of murder exactly\n623    ham  sorry, no, have got few things to do. may be i...\n3749   ham  Buzz! Hey, my Love ! I think of you and hope y...\n1925   ham  We don call like  &lt;#&gt;  times oh. No give...\n4183   ham  I just really need shit before tomorrow and I ...\n3858  spam  Win the newest åÒHarry Potter and the Order of...\n4072   ham               Was the actual exam harder than NBME",
            "text/html": "<div>\n<style scoped>\n    .dataframe tbody tr th:only-of-type {\n        vertical-align: middle;\n    }\n\n    .dataframe tbody tr th {\n        vertical-align: top;\n    }\n\n    .dataframe thead th {\n        text-align: right;\n    }\n</style>\n<table border=\"1\" class=\"dataframe\">\n  <thead>\n    <tr style=\"text-align: right;\">\n      <th></th>\n      <th>v1</th>\n      <th>v2</th>\n    </tr>\n  </thead>\n  <tbody>\n    <tr>\n      <th>1706</th>\n      <td>ham</td>\n      <td>Yes! I am a one woman man! Please tell me your...</td>\n    </tr>\n    <tr>\n      <th>3143</th>\n      <td>ham</td>\n      <td>Haha I heard that, text me when you're around</td>\n    </tr>\n    <tr>\n      <th>836</th>\n      <td>spam</td>\n      <td>Do you want 750 anytime any network mins 150 t...</td>\n    </tr>\n    <tr>\n      <th>2827</th>\n      <td>ham</td>\n      <td>Wife.how she knew the time of murder exactly</td>\n    </tr>\n    <tr>\n      <th>623</th>\n      <td>ham</td>\n      <td>sorry, no, have got few things to do. may be i...</td>\n    </tr>\n    <tr>\n      <th>3749</th>\n      <td>ham</td>\n      <td>Buzz! Hey, my Love ! I think of you and hope y...</td>\n    </tr>\n    <tr>\n      <th>1925</th>\n      <td>ham</td>\n      <td>We don call like  &amp;lt;#&amp;gt;  times oh. No give...</td>\n    </tr>\n    <tr>\n      <th>4183</th>\n      <td>ham</td>\n      <td>I just really need shit before tomorrow and I ...</td>\n    </tr>\n    <tr>\n      <th>3858</th>\n      <td>spam</td>\n      <td>Win the newest åÒHarry Potter and the Order of...</td>\n    </tr>\n    <tr>\n      <th>4072</th>\n      <td>ham</td>\n      <td>Was the actual exam harder than NBME</td>\n    </tr>\n  </tbody>\n</table>\n</div>"
          },
          "metadata": {}
        }
      ]
    },
    {
      "cell_type": "markdown",
      "source": [
        "**STEMMING THE CLEANED DATA AND REMOVING STOPWORDS**"
      ],
      "metadata": {
        "id": "bbA9ZZxWbbEt"
      }
    },
    {
      "cell_type": "code",
      "source": [
        "def clean_data(text):\n",
        "    text=text.lower()\n",
        "    words=re.sub('[^a-z]',' ',text)\n",
        "\n",
        "    stop_words=set(stopwords.words(\"english\"))\n",
        "    text=' '.join([word for word in words.split() if word not in stop_words])\n",
        "    stemmer=PorterStemmer()\n",
        "    text=' '.join([stemmer.stem(word) for word in words.split()])\n",
        "    return text\n",
        "clean_text=df['v2'].apply(clean_data)\n",
        "print(clean_text.head())"
      ],
      "metadata": {
        "execution": {
          "iopub.status.busy": "2024-02-16T09:00:51.097583Z",
          "iopub.execute_input": "2024-02-16T09:00:51.097981Z",
          "iopub.status.idle": "2024-02-16T09:00:53.831954Z",
          "shell.execute_reply.started": "2024-02-16T09:00:51.097954Z",
          "shell.execute_reply": "2024-02-16T09:00:53.830639Z"
        },
        "trusted": true,
        "id": "eyTcOA95bbEt",
        "outputId": "c5753ac1-d895-4517-9dc5-f979667c6071"
      },
      "execution_count": null,
      "outputs": [
        {
          "name": "stdout",
          "text": "0    go until jurong point crazi avail onli in bugi...\n1                                ok lar joke wif u oni\n2    free entri in a wkli comp to win fa cup final ...\n3          u dun say so earli hor u c alreadi then say\n4    nah i don t think he goe to usf he live around...\nName: v2, dtype: object\n",
          "output_type": "stream"
        }
      ]
    },
    {
      "cell_type": "markdown",
      "source": [
        "**VECTORIZING THE DATASET AND CREATING TESTING AND TRAINING SPLITS**"
      ],
      "metadata": {
        "id": "CU-ncW7MbbEu"
      }
    },
    {
      "cell_type": "code",
      "source": [
        "vectorizer = TfidfVectorizer()\n",
        "X = vectorizer.fit_transform(clean_text)\n",
        "y = df['v1'].map({'ham': 0, 'spam': 1})\n",
        "\n",
        "X_train, X_test, y_train, y_test = train_test_split(X, y, test_size=0.2, random_state=42)\n",
        "print('Training set shape:', X_train.shape)\n",
        "print('Testing set shape:', X_test.shape)"
      ],
      "metadata": {
        "execution": {
          "iopub.status.busy": "2024-02-16T09:00:53.833485Z",
          "iopub.execute_input": "2024-02-16T09:00:53.833901Z",
          "iopub.status.idle": "2024-02-16T09:00:53.957078Z",
          "shell.execute_reply.started": "2024-02-16T09:00:53.833869Z",
          "shell.execute_reply": "2024-02-16T09:00:53.955639Z"
        },
        "trusted": true,
        "id": "vx7e_0lCbbEu",
        "outputId": "92a99a63-89cc-4382-fb0e-e6fba8e9ea0e"
      },
      "execution_count": null,
      "outputs": [
        {
          "name": "stdout",
          "text": "Training set shape: (4457, 6321)\nTesting set shape: (1115, 6321)\n",
          "output_type": "stream"
        }
      ]
    },
    {
      "cell_type": "markdown",
      "source": [
        "**USING DIFFERENT MODELS TO FIND BEST PERFORMANCE**"
      ],
      "metadata": {
        "id": "qFUHJi8AbbEu"
      }
    },
    {
      "cell_type": "code",
      "source": [
        "logreg=LogisticRegression(random_state=42)\n",
        "logreg.fit(X_train,y_train)\n",
        "y_pred = logreg.predict(X_test)\n",
        "accuracy = accuracy_score(y_test, y_pred)\n",
        "\n",
        "\n",
        "report = classification_report(y_test, y_pred, target_names=['Ham', 'Spam'])\n",
        "\n",
        "print('Accuracy:', accuracy)\n",
        "print('Classification Report:\\n', report)\n",
        "scores = cross_val_score(logreg, X_train, y_train, cv=10)\n",
        "print(\"Accuracy with CV: \",scores.mean())\n",
        "cm = confusion_matrix(y_test, y_pred)\n",
        "plt.figure(figsize=(8, 6))\n",
        "sns.heatmap(cm, annot=True, fmt=\"d\", cmap=\"spring\", cbar=False)\n",
        "plt.xlabel('Predicted labels')\n",
        "plt.ylabel('True labels')\n",
        "plt.show()"
      ],
      "metadata": {
        "execution": {
          "iopub.status.busy": "2024-02-16T09:00:53.958507Z",
          "iopub.execute_input": "2024-02-16T09:00:53.958955Z",
          "iopub.status.idle": "2024-02-16T09:00:54.870615Z",
          "shell.execute_reply.started": "2024-02-16T09:00:53.958926Z",
          "shell.execute_reply": "2024-02-16T09:00:54.869318Z"
        },
        "trusted": true,
        "id": "YLUakDCQbbEv",
        "outputId": "0b6885fd-d128-4eef-eccc-fe4212b99e28"
      },
      "execution_count": null,
      "outputs": [
        {
          "name": "stdout",
          "text": "Accuracy: 0.967713004484305\nClassification Report:\n               precision    recall  f1-score   support\n\n         Ham       0.96      1.00      0.98       965\n        Spam       1.00      0.76      0.86       150\n\n    accuracy                           0.97      1115\n   macro avg       0.98      0.88      0.92      1115\nweighted avg       0.97      0.97      0.97      1115\n\nAccuracy with CV:  0.9661183050335064\n",
          "output_type": "stream"
        },
        {
          "output_type": "display_data",
          "data": {
            "text/plain": "<Figure size 800x600 with 1 Axes>",
            "image/png": "[encoded data removed]"
          },
          "metadata": {}
        }
      ]
    },
    {
      "cell_type": "code",
      "source": [
        "DTC=DecisionTreeClassifier()\n",
        "DTC.fit(X_train,y_train)\n",
        "y_pred=DTC.predict(X_test)\n",
        "accuracy1=accuracy_score(y_test,y_pred)\n",
        "report = classification_report(y_test, y_pred, target_names=['Ham', 'Spam'])\n",
        "\n",
        "print('Accuracy:', accuracy1)\n",
        "print('Classification Report:\\n', report)\n",
        "scores = cross_val_score(DTC, X_train, y_train, cv=10)\n",
        "print(\"Accuracy with CV: \",scores.mean())\n",
        "cm = confusion_matrix(y_test, y_pred)\n",
        "plt.figure(figsize=(8, 6))\n",
        "sns.heatmap(cm, annot=True, fmt=\"d\", cmap=\"winter\", cbar=False)\n",
        "plt.xlabel('Predicted labels')\n",
        "plt.ylabel('True labels')\n",
        "plt.show()"
      ],
      "metadata": {
        "execution": {
          "iopub.status.busy": "2024-02-16T09:00:54.874325Z",
          "iopub.execute_input": "2024-02-16T09:00:54.874684Z",
          "iopub.status.idle": "2024-02-16T09:00:58.298174Z",
          "shell.execute_reply.started": "2024-02-16T09:00:54.874657Z",
          "shell.execute_reply": "2024-02-16T09:00:58.29704Z"
        },
        "trusted": true,
        "id": "EyOrQMIAbbEv",
        "outputId": "2420ed0a-d08d-4b3b-cfde-695fb809bbe1"
      },
      "execution_count": null,
      "outputs": [
        {
          "name": "stdout",
          "text": "Accuracy: 0.967713004484305\nClassification Report:\n               precision    recall  f1-score   support\n\n         Ham       0.98      0.98      0.98       965\n        Spam       0.89      0.87      0.88       150\n\n    accuracy                           0.97      1115\n   macro avg       0.93      0.93      0.93      1115\nweighted avg       0.97      0.97      0.97      1115\n\nAccuracy with CV:  0.9667914546279034\n",
          "output_type": "stream"
        },
        {
          "output_type": "display_data",
          "data": {
            "text/plain": "<Figure size 800x600 with 1 Axes>",
            "image/png": "[encoded data removed]"
          },
          "metadata": {}
        }
      ]
    },
    {
      "cell_type": "code",
      "source": [
        "svc=SVC()\n",
        "svc.fit(X_train,y_train)\n",
        "y_pred=svc.predict(X_test)\n",
        "accuracy2=accuracy_score(y_test,y_pred)\n",
        "report = classification_report(y_test, y_pred, target_names=['Ham', 'Spam'])\n",
        "\n",
        "print('Accuracy:', accuracy2)\n",
        "print('Classification Report:\\n', report)\n",
        "scores = cross_val_score(svc, X_train, y_train, cv=10)\n",
        "print(\"Accuracy with CV: \",scores.mean())\n",
        "cm = confusion_matrix(y_test, y_pred)\n",
        "plt.figure(figsize=(8, 6))\n",
        "sns.heatmap(cm, annot=True, fmt=\"d\", cmap=\"summer\", cbar=True)\n",
        "plt.xlabel('Predicted labels')\n",
        "plt.ylabel('True labels')\n",
        "plt.show()"
      ],
      "metadata": {
        "execution": {
          "iopub.status.busy": "2024-02-16T09:00:58.300935Z",
          "iopub.execute_input": "2024-02-16T09:00:58.301281Z",
          "iopub.status.idle": "2024-02-16T09:01:12.790628Z",
          "shell.execute_reply.started": "2024-02-16T09:00:58.301251Z",
          "shell.execute_reply": "2024-02-16T09:01:12.789502Z"
        },
        "trusted": true,
        "id": "WhE2_MwibbEv",
        "outputId": "9cd2dff3-33e9-4e61-a28c-ef5a9885fb32"
      },
      "execution_count": null,
      "outputs": [
        {
          "name": "stdout",
          "text": "Accuracy: 0.9775784753363229\nClassification Report:\n               precision    recall  f1-score   support\n\n         Ham       0.98      1.00      0.99       965\n        Spam       0.99      0.84      0.91       150\n\n    accuracy                           0.98      1115\n   macro avg       0.98      0.92      0.95      1115\nweighted avg       0.98      0.98      0.98      1115\n\nAccuracy with CV:  0.979581800775936\n",
          "output_type": "stream"
        },
        {
          "output_type": "display_data",
          "data": {
            "text/plain": "<Figure size 800x600 with 2 Axes>",
            "image/png": "[encoded data removed]"
          },
          "metadata": {}
        }
      ]
    },
    {
      "cell_type": "code",
      "source": [
        "classifiers = ['Logistic Regression','Decision tree','SVC']\n",
        "acc=[accuracy,accuracy1,accuracy2]\n",
        "sns.barplot(x=classifiers,y=acc,color='violet')\n"
      ],
      "metadata": {
        "execution": {
          "iopub.status.busy": "2024-02-16T09:01:12.792069Z",
          "iopub.execute_input": "2024-02-16T09:01:12.793117Z",
          "iopub.status.idle": "2024-02-16T09:01:12.962219Z",
          "shell.execute_reply.started": "2024-02-16T09:01:12.793076Z",
          "shell.execute_reply": "2024-02-16T09:01:12.96079Z"
        },
        "trusted": true,
        "id": "XMnevCDjbbEv",
        "outputId": "2c128785-71c6-4ce4-e7b5-1c8c9c37e001"
      },
      "execution_count": null,
      "outputs": [
        {
          "name": "stderr",
          "text": "/opt/conda/lib/python3.10/site-packages/seaborn/_oldcore.py:1765: FutureWarning: unique with argument that is not not a Series, Index, ExtensionArray, or np.ndarray is deprecated and will raise in a future version.\n  order = pd.unique(vector)\n",
          "output_type": "stream"
        },
        {
          "execution_count": 11,
          "output_type": "execute_result",
          "data": {
            "text/plain": "<Axes: >"
          },
          "metadata": {}
        },
        {
          "output_type": "display_data",
          "data": {
            "text/plain": "<Figure size 640x480 with 1 Axes>",
            "image/png": "[encoded data removed]"
          },
          "metadata": {}
        }
      ]
    },
    {
      "cell_type": "code",
      "source": [],
      "metadata": {
        "id": "hbZv36xtbbEw"
      },
      "execution_count": null,
      "outputs": []
    }
  ]
}