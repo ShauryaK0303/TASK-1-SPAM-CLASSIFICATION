{
  "nbformat": 4,
  "nbformat_minor": 0,
  "metadata": {
    "colab": {
      "provenance": [],
      "include_colab_link": true
    },
    "kernelspec": {
      "name": "python3",
      "display_name": "Python 3"
    },
    "language_info": {
      "name": "python"
    }
  },
  "cells": [
    {
      "cell_type": "markdown",
      "metadata": {
        "id": "view-in-github",
        "colab_type": "text"
      },
      "source": [
        "<a href=\"https://colab.research.google.com/github/ShauryaK0303/TASK-1-SPAM-CLASSIFICATION/blob/main/Copy_of_Rs_Lab2b.ipynb\" target=\"_parent\"><img src=\"https://colab.research.google.com/assets/colab-badge.svg\" alt=\"Open In Colab\"/></a>"
      ]
    },
    {
      "cell_type": "code",
      "source": [
        "user_item_matrix = ratings.pivot(index='userId', columns='movieId', values='rating')\n",
        "user_item_matrix_filled = user_item_matrix.fillna(0)"
      ],
      "metadata": {
        "id": "-pL0Xvc7eflm"
      },
      "execution_count": null,
      "outputs": []
    },
    {
      "cell_type": "code",
      "source": [
        "cosine_sim = cosine_similarity(user_item_matrix_filled)\n",
        "cosine_sim_df = pd.DataFrame(cosine_sim, index=user_item_matrix.index, columns=user_item_matrix.index)"
      ],
      "metadata": {
        "id": "VCk-CxIFei2t"
      },
      "execution_count": null,
      "outputs": []
    },
    {
      "cell_type": "code",
      "source": [
        "euclidean_sim = np.zeros_like(cosine_sim)\n",
        "for i in range(len(user_item_matrix.index)):\n",
        "    for j in range(len(user_item_matrix.index)):\n",
        "        euclidean_sim[i, j] = 1 / (1 + euclidean(user_item_matrix_filled.iloc[i], user_item_matrix_filled.iloc[j]))\n",
        "euclidean_sim_df = pd.DataFrame(euclidean_sim, index=user_item_matrix.index, columns=user_item_matrix.index)\n"
      ],
      "metadata": {
        "id": "8Pw3U70NelC_"
      },
      "execution_count": null,
      "outputs": []
    },
    {
      "cell_type": "code",
      "source": [
        "pearson_sim = np.zeros_like(cosine_sim)\n",
        "for i in range(len(user_item_matrix.index)):\n",
        "    for j in range(len(user_item_matrix.index)):\n",
        "        if i != j:\n",
        "            corr, _ = pearsonr(user_item_matrix_filled.iloc[i], user_item_matrix_filled.iloc[j])\n",
        "            pearson_sim[i, j] = corr\n",
        "        else:\n",
        "            pearson_sim[i, j] = 1\n",
        "pearson_sim_df = pd.DataFrame(pearson_sim, index=user_item_matrix.index, columns=user_item_matrix.index)\n"
      ],
      "metadata": {
        "id": "1gNOETBGengQ"
      },
      "execution_count": null,
      "outputs": []
    },
    {
      "cell_type": "code",
      "source": [
        "weights = {'cosine': 0.4, 'euclidean': 0.3, 'pearson': 0.3}\n",
        "hybrid_sim = (\n",
        "    weights['cosine'] * cosine_sim +\n",
        "    weights['euclidean'] * euclidean_sim +\n",
        "    weights['pearson'] * pearson_sim\n",
        ")\n",
        "hybrid_sim_df = pd.DataFrame(hybrid_sim, index=user_item_matrix.index, columns=user_item_matrix.index)\n"
      ],
      "metadata": {
        "id": "YqeHASbDeprv"
      },
      "execution_count": null,
      "outputs": []
    },
    {
      "cell_type": "code",
      "source": [
        "user_predicted_ratings = pd.DataFrame(index=user_item_matrix.index, columns=user_item_matrix.columns)\n",
        "for user in user_item_matrix.index:\n",
        "    sim_scores = hybrid_sim_df[user]\n",
        "    weighted_sum = sim_scores.values @ user_item_matrix_filled\n",
        "    sim_sum = np.abs(sim_scores).sum()\n",
        "    user_predicted_ratings.loc[user] = weighted_sum / sim_sum"
      ],
      "metadata": {
        "id": "0jTTD3C0esPa"
      },
      "execution_count": null,
      "outputs": []
    },
    {
      "cell_type": "code",
      "source": [
        "def recommend_items(user_id, num_recommendations=10):\n",
        "    user_ratings = user_predicted_ratings.loc[user_id].sort_values(ascending=False)\n",
        "    already_rated = user_item_matrix.loc[user_id].dropna().index\n",
        "    recommendations = user_ratings.drop(already_rated)\n",
        "    return recommendations.head(num_recommendations)\n"
      ],
      "metadata": {
        "id": "Z6_oZMiHevG9"
      },
      "execution_count": null,
      "outputs": []
    },
    {
      "cell_type": "code",
      "source": [
        "print(recommend_items(1))\n"
      ],
      "metadata": {
        "colab": {
          "base_uri": "https://localhost:8080/"
        },
        "id": "yqVkqTA6exQu",
        "outputId": "16431f41-763d-4303-efa9-584891d6b1a5"
      },
      "execution_count": null,
      "outputs": [
        {
          "output_type": "stream",
          "name": "stdout",
          "text": [
            "movieId\n",
            "318     2.592568\n",
            "589     2.033458\n",
            "858     1.802514\n",
            "2762     1.61039\n",
            "4993    1.572033\n",
            "150     1.549661\n",
            "32      1.538333\n",
            "7153    1.452908\n",
            "588     1.435471\n",
            "5952    1.434228\n",
            "Name: 1, dtype: object\n"
          ]
        }
      ]
    },
    {
      "cell_type": "code",
      "source": [
        "\n",
        "print(recommend_items(2))"
      ],
      "metadata": {
        "colab": {
          "base_uri": "https://localhost:8080/"
        },
        "id": "PH6JIN5Ieyeo",
        "outputId": "41b2c79d-96fa-48be-990d-6546fadab320"
      },
      "execution_count": null,
      "outputs": [
        {
          "output_type": "stream",
          "name": "stdout",
          "text": [
            "movieId\n",
            "356     2.588259\n",
            "2571    2.585861\n",
            "2959    2.434292\n",
            "296     2.315085\n",
            "593     2.091803\n",
            "7153    2.004482\n",
            "4993     1.99546\n",
            "260     1.867594\n",
            "5952    1.832427\n",
            "50      1.708289\n",
            "Name: 2, dtype: object\n"
          ]
        }
      ]
    },
    {
      "cell_type": "markdown",
      "source": [
        "#**ANALYSIS & CONCLUSION**\n",
        "User-User Collaborative Filtering is effective in generating recommendations by leveraging the preferences of similar users. In part (a), the implementation demonstrated that identifying similar users using methods like Cosine Similarity, Euclidean Distance, and Pearson Correlation helps make personalized recommendations. Each similarity measure has unique characteristics:\n",
        "\n",
        "* Cosine Similarity captures the angle between preference vectors, focusing on direction rather than magnitude.\n",
        "* Euclidean Distance emphasizes absolute differences, making it sensitive to scale.\n",
        "* Pearson Correlation measures linear relationships, accounting for variations in rating scales.\n",
        "\n",
        "User-User Collaborative Filtering is a practical approach for generating personalized recommendations, with similarity measures like Cosine Similarity and Pearson Correlation proving effective."
      ],
      "metadata": {
        "id": "Fc4lnQ8-mJG4"
      }
    },
    {
      "cell_type": "code",
      "source": [],
      "metadata": {
        "id": "FzdL9_TzfHrl"
      },
      "execution_count": null,
      "outputs": []
    }
  ]
}