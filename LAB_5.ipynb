{
  "nbformat": 4,
  "nbformat_minor": 0,
  "metadata": {
    "colab": {
      "provenance": [],
      "authorship_tag": "ABX9TyP05nZArm33ZSFbzRgHVvTh",
      "include_colab_link": true
    },
    "kernelspec": {
      "name": "python3",
      "display_name": "Python 3"
    },
    "language_info": {
      "name": "python"
    }
  },
  "cells": [
    {
      "cell_type": "markdown",
      "metadata": {
        "id": "view-in-github",
        "colab_type": "text"
      },
      "source": [
        "<a href=\"https://colab.research.google.com/github/ShauryaK0303/TASK-1-SPAM-CLASSIFICATION/blob/main/LAB_5.ipynb\" target=\"_parent\"><img src=\"https://colab.research.google.com/assets/colab-badge.svg\" alt=\"Open In Colab\"/></a>"
      ]
    },
    {
      "cell_type": "markdown",
      "source": [
        "#**AIM**\n",
        "Implement the SVD++ algorithm and analyze it. Compare its\n",
        "results with SVD algorithm."
      ],
      "metadata": {
        "id": "aAZDWmf8Y_IT"
      }
    },
    {
      "cell_type": "markdown",
      "source": [
        "#**INTRODUCTION**\n",
        "SVD++ is an extension of Singular Value Decomposition (SVD) that incorporates implicitfeedback in addition to explicit feedback for matrix factorization. This extension improves theability of a recommendation system to predict ratings by utilizing not just the user-item ratings(explicit feedback), but also other signals such as clicks, views, purchases, or other userinteractions (implicit feedback)."
      ],
      "metadata": {
        "id": "vCn-Zn5iZGOZ"
      }
    },
    {
      "cell_type": "markdown",
      "source": [
        "#**THEORY**\n",
        "SVD++ is an enhanced version of the Singular Value Decomposition (SVD) algorithm designed to improve recommendation accuracy by incorporating implicit feedback. While SVD uses explicit user-item ratings to factorize the user-item matrix, SVD++ adds implicit feedback, such as items a user interacted with but didn’t rate.\n",
        "\n",
        "The model extends the user representation by including a term for implicit interactions, capturing hidden user preferences. This makes SVD++ more robust in scenarios where explicit ratings are sparse. The overall prediction formula includes both explicit and implicit feedback, allowing for more personalized and accurate recommendations."
      ],
      "metadata": {
        "id": "UNdr5PwjZOpN"
      }
    },
    {
      "cell_type": "code",
      "execution_count": 2,
      "metadata": {
        "colab": {
          "base_uri": "https://localhost:8080/"
        },
        "id": "WoFb_7z-hg-N",
        "outputId": "d8e5af8f-360f-4534-a8d1-b7d2f57dc0f6"
      },
      "outputs": [
        {
          "output_type": "stream",
          "name": "stdout",
          "text": [
            "Collecting scikit-surprise\n",
            "  Downloading scikit_surprise-1.1.4.tar.gz (154 kB)\n",
            "\u001b[?25l     \u001b[90m━━━━━━━━━━━━━━━━━━━━━━━━━━━━━━━━━━━━━━━━\u001b[0m \u001b[32m0.0/154.4 kB\u001b[0m \u001b[31m?\u001b[0m eta \u001b[36m-:--:--\u001b[0m\r\u001b[2K     \u001b[91m━━━━━━━━━━━━━━━━━━━━━━━━━━━━━\u001b[0m\u001b[90m╺\u001b[0m\u001b[90m━━━━━━━━━━\u001b[0m \u001b[32m112.6/154.4 kB\u001b[0m \u001b[31m3.1 MB/s\u001b[0m eta \u001b[36m0:00:01\u001b[0m\r\u001b[2K     \u001b[90m━━━━━━━━━━━━━━━━━━━━━━━━━━━━━━━━━━━━━━━━\u001b[0m \u001b[32m154.4/154.4 kB\u001b[0m \u001b[31m2.7 MB/s\u001b[0m eta \u001b[36m0:00:00\u001b[0m\n",
            "\u001b[?25h  Installing build dependencies ... \u001b[?25l\u001b[?25hdone\n",
            "  Getting requirements to build wheel ... \u001b[?25l\u001b[?25hdone\n",
            "  Preparing metadata (pyproject.toml) ... \u001b[?25l\u001b[?25hdone\n",
            "Requirement already satisfied: joblib>=1.2.0 in /usr/local/lib/python3.10/dist-packages (from scikit-surprise) (1.4.2)\n",
            "Requirement already satisfied: numpy>=1.19.5 in /usr/local/lib/python3.10/dist-packages (from scikit-surprise) (1.26.4)\n",
            "Requirement already satisfied: scipy>=1.6.0 in /usr/local/lib/python3.10/dist-packages (from scikit-surprise) (1.13.1)\n",
            "Building wheels for collected packages: scikit-surprise\n",
            "  Building wheel for scikit-surprise (pyproject.toml) ... \u001b[?25l\u001b[?25hdone\n",
            "  Created wheel for scikit-surprise: filename=scikit_surprise-1.1.4-cp310-cp310-linux_x86_64.whl size=2357292 sha256=a615568f2386e1815e69c85b57640579cc8098630f4dc2f4c47d385ca0937e40\n",
            "  Stored in directory: /root/.cache/pip/wheels/4b/3f/df/6acbf0a40397d9bf3ff97f582cc22fb9ce66adde75bc71fd54\n",
            "Successfully built scikit-surprise\n",
            "Installing collected packages: scikit-surprise\n",
            "Successfully installed scikit-surprise-1.1.4\n"
          ]
        }
      ],
      "source": [
        "#@title **CODE**\n",
        "!pip install scikit-surprise"
      ]
    },
    {
      "cell_type": "code",
      "source": [
        "import pandas as pd\n",
        "from surprise import Dataset, Reader, SVDpp\n",
        "from surprise.model_selection import train_test_split\n",
        "from surprise import accuracy\n",
        "from surprise import PredictionImpossible"
      ],
      "metadata": {
        "id": "Raz2IPQeiC8F"
      },
      "execution_count": 3,
      "outputs": []
    },
    {
      "cell_type": "code",
      "source": [
        "ratings = pd.read_csv(\"ratings.csv\")\n",
        "movies = pd.read_csv(\"movies.csv\")"
      ],
      "metadata": {
        "id": "S_CpZ4AjiZ2q"
      },
      "execution_count": 5,
      "outputs": []
    },
    {
      "cell_type": "code",
      "source": [
        "reader = Reader(rating_scale=(1, 5))\n",
        "data = Dataset.load_from_df(ratings[['userId', 'movieId', 'rating']], reader)\n"
      ],
      "metadata": {
        "id": "wRwNzXDel0B2"
      },
      "execution_count": 6,
      "outputs": []
    },
    {
      "cell_type": "code",
      "source": [
        "trainset, testset = train_test_split(data, test_size=0.2, random_state=42)\n"
      ],
      "metadata": {
        "id": "9uUngxTkl2Bq"
      },
      "execution_count": 7,
      "outputs": []
    },
    {
      "cell_type": "code",
      "source": [
        "model = SVDpp(n_factors=50, n_epochs=20, lr_all=0.005, reg_all=0.02)\n",
        "model.fit(trainset)"
      ],
      "metadata": {
        "colab": {
          "base_uri": "https://localhost:8080/"
        },
        "id": "nTDHRaXel47S",
        "outputId": "2446b815-1ac2-4b0f-a292-dfdc81e6e411"
      },
      "execution_count": 8,
      "outputs": [
        {
          "output_type": "execute_result",
          "data": {
            "text/plain": [
              "<surprise.prediction_algorithms.matrix_factorization.SVDpp at 0x7e661dadd420>"
            ]
          },
          "metadata": {},
          "execution_count": 8
        }
      ]
    },
    {
      "cell_type": "code",
      "source": [
        "predictions = model.test(testset)"
      ],
      "metadata": {
        "id": "6M0KHKLVl7Q-"
      },
      "execution_count": 9,
      "outputs": []
    },
    {
      "cell_type": "code",
      "source": [
        "rmse = accuracy.rmse(predictions)\n",
        "print(f\"Test RMSE: {rmse}\")"
      ],
      "metadata": {
        "id": "7JbsfqWAl-45",
        "colab": {
          "base_uri": "https://localhost:8080/"
        },
        "outputId": "c89670df-ce72-4ec6-8153-39f9d69fe2be"
      },
      "execution_count": 10,
      "outputs": [
        {
          "output_type": "stream",
          "name": "stdout",
          "text": [
            "RMSE: 0.9070\n",
            "Test RMSE: 0.9069576349566727\n"
          ]
        }
      ]
    },
    {
      "cell_type": "code",
      "source": [
        "def get_recommendations(user_id, top_n=10):\n",
        "    all_movie_ids = ratings['movieId'].unique()\n",
        "    rated_movie_ids = ratings[ratings['userId'] == user_id]['movieId'].tolist()\n",
        "    unrated_movie_ids = [movie_id for movie_id in all_movie_ids if movie_id not in rated_movie_ids]\n",
        "    predictions = [model.predict(user_id, movie_id) for movie_id in unrated_movie_ids]\n",
        "    predictions.sort(key=lambda x: x.est, reverse=True)\n",
        "\n",
        "    # Get the top_n recommended movie IDs\n",
        "    recommended_movie_ids = [prediction.iid for prediction in predictions[:top_n]]\n",
        "\n",
        "    return recommended_movie_ids"
      ],
      "metadata": {
        "id": "tjnsxV9KX6zr"
      },
      "execution_count": 15,
      "outputs": []
    },
    {
      "cell_type": "code",
      "source": [
        "user_id = 10\n",
        "recommendations = get_recommendations(user_id)\n",
        "print(f\"Recommendations for user {user_id}: {recommendations}\")"
      ],
      "metadata": {
        "colab": {
          "base_uri": "https://localhost:8080/"
        },
        "id": "QqiZKIZcYHrq",
        "outputId": "d09caf9b-5870-4410-814e-9a99e76fa7e8"
      },
      "execution_count": 16,
      "outputs": [
        {
          "output_type": "stream",
          "name": "stdout",
          "text": [
            "Recommendations for user 10: [6711, 3275, 1208, 608, 1250, 8950, 103141, 913, 318, 904]\n"
          ]
        }
      ]
    },
    {
      "cell_type": "markdown",
      "source": [
        "#**OUTPUT**\n",
        "* SVD relies solely on explicit ratings, limiting its ability to fully capture\n",
        "user preferences.\n",
        "* SVD++ includes implicit feedback, leading to more accurate predictions,especially for users or items with sparse explicit ratings.\n",
        "\n",
        "* SVD++ slightly adjusts the ratings based on implicit interactions, improving recommendation relevance.\n",
        "* For example, U1's prediction for Item 5 improves with SVD++ because of implicit feedback from similar users/items."
      ],
      "metadata": {
        "id": "f0RJuFYOafIQ"
      }
    },
    {
      "cell_type": "markdown",
      "source": [
        "#**ANALYSIS & CONCLUSION**\n",
        "SVD++ improves upon the traditional SVD algorithm by incorporating implicit feedback such as clicks, views, or purchases alongside explicit ratings. This additional data enables the algorithm to capture nuanced user preferences, especially when explicit ratings are sparse. By considering implicit interactions, SVD++ generates more personalized recommendations and performs better in predicting missing ratings.\n",
        "\n",
        "SVD++ is a powerful enhancement of SVD, offering improved accuracy by leveraging both explicit and implicit feedback. It is particularly effective in real-world scenarios where user behavior data is abundant but explicit ratings are limited. While computationally intensive, its ability to provide superior recommendations makes it a valuable choice for modern recommendation systems."
      ],
      "metadata": {
        "id": "CAu-KuBucRyI"
      }
    },
    {
      "cell_type": "code",
      "source": [],
      "metadata": {
        "id": "9zz-DZY6Y6rA"
      },
      "execution_count": null,
      "outputs": []
    }
  ]
}