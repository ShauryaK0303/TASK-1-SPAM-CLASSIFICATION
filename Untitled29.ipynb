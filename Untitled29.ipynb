{
  "nbformat": 4,
  "nbformat_minor": 0,
  "metadata": {
    "colab": {
      "provenance": [],
      "authorship_tag": "ABX9TyORIEXAddLSpqVOacl02QaF",
      "include_colab_link": true
    },
    "kernelspec": {
      "name": "python3",
      "display_name": "Python 3"
    },
    "language_info": {
      "name": "python"
    }
  },
  "cells": [
    {
      "cell_type": "markdown",
      "metadata": {
        "id": "view-in-github",
        "colab_type": "text"
      },
      "source": [
        "<a href=\"https://colab.research.google.com/github/ShauryaK0303/TASK-1-SPAM-CLASSIFICATION/blob/main/Untitled29.ipynb\" target=\"_parent\"><img src=\"https://colab.research.google.com/assets/colab-badge.svg\" alt=\"Open In Colab\"/></a>"
      ]
    },
    {
      "cell_type": "markdown",
      "source": [
        "#**ANALYSIS & CONCLUSION**\n",
        "1. The Jaccard index measures the similarity between two nodes based on the ratio of their shared neighbors to their total neighbors. It is simple and computationally efficient but does not account for the significance of shared neighbors.\n",
        "\n",
        "2. The Adamic-Adar index, on the other hand, assigns higher importance to shared neighbors with fewer connections, making it more suited for networks where rare connections are meaningful. However, it can be computationally intensive for large networks due to the logarithmic calculations.\n",
        "\n",
        "Both methods are valuable for link prediction, with the Jaccard index being a straightforward and scalable approach, while the Adamic-Adar index offers deeper insights by weighting less common neighbors. The choice between the two depends on the characteristics of the network and the importance of rare connections."
      ],
      "metadata": {
        "id": "8Cfy3KkJc8jq"
      }
    },
    {
      "cell_type": "code",
      "execution_count": null,
      "metadata": {
        "id": "QSZVvKdOcu7M"
      },
      "outputs": [],
      "source": []
    }
  ]
}