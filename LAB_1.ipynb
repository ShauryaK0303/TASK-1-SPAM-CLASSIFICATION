{
  "cells": [
    {
      "cell_type": "markdown",
      "metadata": {
        "id": "view-in-github",
        "colab_type": "text"
      },
      "source": [
        "<a href=\"https://colab.research.google.com/github/ShauryaK0303/TASK-1-SPAM-CLASSIFICATION/blob/main/LAB_1.ipynb\" target=\"_parent\"><img src=\"https://colab.research.google.com/assets/colab-badge.svg\" alt=\"Open In Colab\"/></a>"
      ]
    },
    {
      "cell_type": "markdown",
      "metadata": {
        "id": "CkMTOmHpHKE8"
      },
      "source": [
        "#**AIM:**\n",
        "To Study and analyze the tool RecSim."
      ]
    },
    {
      "cell_type": "markdown",
      "metadata": {
        "id": "VX8egcjA2A3e"
      },
      "source": [
        "\n",
        "# **INTRODUCTION**\n",
        "RecSim is a configurable platform for simulating a recommendation system environment in which a recommender agent interacts with a corpus of documents (or recommendable items) and a set of users, in a natural but abstract fashion, to support the development of new recommendation algorithms.\n",
        "\n",
        "\n",
        "```\n",
        "for episode in [1,...,number_of_episodes]:\n",
        "  user = sample_user()\n",
        "  recommended_slate = null\n",
        "  while session_not_over:\n",
        "    user_response = user_responds_to_recommendation(recommended_slate)\n",
        "    available_documents = sample_documents_from_database()\n",
        "    recommended_slate = agent_step(available_documents, user_response)\n",
        "```\n",
        "\n",
        "The document database (document model), user model, and recommender agent each have various internal components, and we will discuss how to design and implement them.\n"
      ]
    },
    {
      "cell_type": "markdown",
      "source": [
        "#**THEORY**\n",
        "RecSim (Recommender Systems Simulator) is a reinforcement learning-based tool for simulating user-system interactions in recommender systems. It models user behavior as a dynamic process using Markov Decision Processes (MDPs), enabling the evaluation of various recommendation algorithms in controlled settings. RecSim facilitates experimentation with user dynamics, long-term engagement, and reward mechanisms, making it ideal for analyzing the impact of recommendations."
      ],
      "metadata": {
        "id": "Q0xdqxxhELZ4"
      }
    },
    {
      "cell_type": "markdown",
      "source": [
        "#**DIAGRAM**\n",
        "\n",
        "At its core, a RecSim simulation consists of running the following event loop for some fixed number of sessions (episodes):\n",
        "\n",
        "\n",
        "\n",
        "![RecSim at a glance](https://github.com/google-research/recsim/blob/master/recsim/colab/figures/recsim_at_a_glance.png?raw=true)\n"
      ],
      "metadata": {
        "id": "KLSzdnCpEc2t"
      }
    },
    {
      "cell_type": "code",
      "execution_count": null,
      "metadata": {
        "id": "KaWqFNX_E6vt"
      },
      "outputs": [],
      "source": [
        "# @title Install\n",
        "!pip install --upgrade --no-cache-dir recsim\n",
        "!pip install -q tf-nightly-2.0-preview\n",
        "# Load the TensorBoard notebook extension\n",
        "%load_ext tensorboard"
      ]
    },
    {
      "cell_type": "code",
      "execution_count": null,
      "metadata": {
        "id": "CiB3XD9yy0Ne"
      },
      "outputs": [],
      "source": [
        "#@title Importing generics\n",
        "import numpy as np\n",
        "import tensorflow as tf"
      ]
    },
    {
      "cell_type": "code",
      "execution_count": null,
      "metadata": {
        "id": "Smj_NRctHZUy"
      },
      "outputs": [],
      "source": [
        "#@title Importing RecSim components\n",
        "from recsim.environments import interest_evolution\n",
        "from recsim.agents import full_slate_q_agent\n",
        "from recsim.simulator import runner_lib"
      ]
    },
    {
      "cell_type": "code",
      "execution_count": null,
      "metadata": {
        "id": "YdS14uuOn7ZE"
      },
      "outputs": [],
      "source": [
        "#@title Create Agent\n",
        "def create_agent(sess, environment, eval_mode, summary_writer=None):\n",
        "  kwargs = {\n",
        "      'observation_space': environment.observation_space,\n",
        "      'action_space': environment.action_space,\n",
        "      'summary_writer': summary_writer,\n",
        "      'eval_mode': eval_mode,\n",
        "  }\n",
        "  return full_slate_q_agent.FullSlateQAgent(sess, **kwargs)"
      ]
    },
    {
      "cell_type": "code",
      "execution_count": null,
      "metadata": {
        "id": "CWXOzVcZMvKk"
      },
      "outputs": [],
      "source": [
        "seed = 0\n",
        "np.random.seed(seed)\n",
        "env_config = {\n",
        "  'num_candidates': 10,\n",
        "  'slate_size': 2,\n",
        "  'resample_documents': True,\n",
        "  'seed': seed,\n",
        "  }"
      ]
    },
    {
      "cell_type": "code",
      "execution_count": null,
      "metadata": {
        "id": "_b1LKyNONOVo"
      },
      "outputs": [],
      "source": [
        "tmp_base_dir = '/tmp/recsim/'\n",
        "runner = runner_lib.TrainRunner(\n",
        "    base_dir=tmp_base_dir,\n",
        "    create_agent_fn=create_agent,\n",
        "    env=interest_evolution.create_environment(env_config),\n",
        "    episode_log_file=\"\",\n",
        "    max_training_steps=50,\n",
        "    num_iterations=10)\n",
        "runner.run_experiment()"
      ]
    },
    {
      "cell_type": "code",
      "execution_count": null,
      "metadata": {
        "id": "eVsxaPxfCEQx"
      },
      "outputs": [],
      "source": [
        "  runner = runner_lib.EvalRunner(\n",
        "      base_dir=tmp_base_dir,\n",
        "      create_agent_fn=create_agent,\n",
        "      env=interest_evolution.create_environment(env_config),\n",
        "      max_eval_episodes=5,\n",
        "      test_mode=True)\n",
        "  runner.run_experiment()"
      ]
    },
    {
      "cell_type": "markdown",
      "source": [
        "#**ANALYSIS**\n",
        "Using RecSim, we can simulate user interactions with recommendation systems, providing insights into user behavior and system performance. By modeling real-world dynamics, it allows for evaluating algorithms under various scenarios, including long-term engagement, user retention, and system adaptability."
      ],
      "metadata": {
        "id": "dO1R3btrFDWO"
      }
    },
    {
      "cell_type": "markdown",
      "source": [
        "#**CONCLUSION**\n",
        "RecSim is a valuable framework for understanding and improving recommender systems. Its ability to model complex user behaviors and evaluate diverse algorithms makes it essential for developing robust, user-centric recommendation strategies."
      ],
      "metadata": {
        "id": "ySZbCJd3FOXU"
      }
    }
  ],
  "metadata": {
    "colab": {
      "provenance": [],
      "include_colab_link": true
    },
    "kernelspec": {
      "display_name": "Python 3",
      "name": "python3"
    }
  },
  "nbformat": 4,
  "nbformat_minor": 0
}